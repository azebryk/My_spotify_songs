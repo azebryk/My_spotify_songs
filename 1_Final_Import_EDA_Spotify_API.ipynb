{
 "cells": [
  {
   "cell_type": "markdown",
   "id": "5f1415c3",
   "metadata": {},
   "source": [
    "# Analysis and clustring of my favorite Spotify songs\n",
    "\n",
    "I am huge music fan and, in my opinion, there is no obvious pattern what types of songs I like. Therefore, I decided to look  a little bit deeper into it, perform analysis and try to distinguish some groups.\n",
    "\n",
    "## Technologies used:\n",
    "- json\n",
    "- matplotlib\n",
    "- seaborn\n",
    "- numpy\n",
    "- pandas\n",
    "- requests\n",
    "- urlib.parse\n",
    "- base64\n",
    "- K-means clustering\n",
    "- TSNE\n",
    "\n",
    "\n",
    "## Project plan\n",
    "1. Data gathering\n",
    "2. Data preparation and exploratory analysis of my streaming history.\n",
    "3. Spotify API: Adjsuting class written by XXXX. Adding extra methods for my case.\n",
    "4. K-Means clustering. Finding accurate numer of clusters using elbow method.\n",
    "5. Cluster visualisation using TSNE.\n",
    "\n",
    "\n",
    "\n",
    "## 1 Data gathering:\n",
    "- My streaing history - songs, which I listned to during last 365 days (requested from spotify website)\n",
    "- Spotify API - to get details about each song\n",
    "\n",
    "## 2  Data preparation and exploratory analysis of my streaming history."
   ]
  },
  {
   "cell_type": "code",
   "execution_count": 2,
   "id": "03eec065",
   "metadata": {},
   "outputs": [],
   "source": [
    "import json\n",
    "import matplotlib.pyplot as plt\n",
    "import numpy as np\n",
    "import pandas as pd\n",
    "import seaborn as sns\n",
    "\n",
    "import requests\n",
    "import datetime\n",
    "from urllib.parse import urlencode\n",
    "import base64"
   ]
  },
  {
   "cell_type": "code",
   "execution_count": null,
   "id": "1ed2270d",
   "metadata": {},
   "outputs": [],
   "source": [
    "df_str0 = pd.read_json('StreamingHistory0.json')\n",
    "df_str1 = pd.read_json('StreamingHistory1.json')\n",
    "df_str2 = pd.read_json('StreamingHistory2.json')"
   ]
  },
  {
   "cell_type": "code",
   "execution_count": null,
   "id": "978a26a4",
   "metadata": {},
   "outputs": [],
   "source": [
    "df_temp = df_str0.append(df_str1)\n",
    "df_temp = df_temp.append(df_str2)\n",
    "df_temp.reset_index(inplace=True)"
   ]
  },
  {
   "cell_type": "code",
   "execution_count": null,
   "id": "19c92221",
   "metadata": {},
   "outputs": [],
   "source": [
    "df_temp.head()"
   ]
  },
  {
   "cell_type": "code",
   "execution_count": null,
   "id": "bac676e9",
   "metadata": {},
   "outputs": [],
   "source": [
    "df_temp.artistName.value_counts()"
   ]
  },
  {
   "cell_type": "markdown",
   "id": "594a93b0",
   "metadata": {},
   "source": [
    "I will create data frame, which presents how many times I played each song."
   ]
  },
  {
   "cell_type": "code",
   "execution_count": null,
   "id": "9d03ec14",
   "metadata": {},
   "outputs": [],
   "source": [
    "df_my_songs = pd.DataFrame(df_temp.trackName.value_counts()).reset_index()\n",
    "df_my_songs "
   ]
  },
  {
   "cell_type": "markdown",
   "id": "cf6fe989",
   "metadata": {},
   "source": [
    "Now I will select all the songs which was played more than 5 times, which sounds like a reasonble choice to pick songs that I really like."
   ]
  },
  {
   "cell_type": "code",
   "execution_count": null,
   "id": "780bcda4",
   "metadata": {},
   "outputs": [],
   "source": [
    "df_my_songs = df_my_songs[df_my_songs['trackName'] > 5]"
   ]
  },
  {
   "cell_type": "code",
   "execution_count": null,
   "id": "36cb3bed",
   "metadata": {},
   "outputs": [],
   "source": [
    "df_my_songs.columns = ['trackName','counts']"
   ]
  },
  {
   "cell_type": "markdown",
   "id": "c49e1d53",
   "metadata": {},
   "source": [
    "Finally, I will marge original streaming dataframe with track counts df and remove duplicates."
   ]
  },
  {
   "cell_type": "code",
   "execution_count": null,
   "id": "a6f8321c",
   "metadata": {},
   "outputs": [],
   "source": [
    "df_my = df_temp.merge(df_my_songs, how='inner')\n",
    "df_my"
   ]
  },
  {
   "cell_type": "code",
   "execution_count": null,
   "id": "eb58f3ed",
   "metadata": {},
   "outputs": [],
   "source": [
    "df_my = df_my.drop_duplicates(subset='trackName')"
   ]
  },
  {
   "cell_type": "code",
   "execution_count": null,
   "id": "62f9c514",
   "metadata": {},
   "outputs": [],
   "source": [
    "df_my.trackName.unique().shape"
   ]
  },
  {
   "cell_type": "markdown",
   "id": "0a7edba5",
   "metadata": {},
   "source": [
    "## 3. Spotify API\n",
    "\n",
    "To get data for my favorite tracks I will use code wirtten by xxxxxx\n",
    "\n",
    "I will add few methods to get audio features of my songs.This will be obtained in two steps:\n",
    "\n",
    "1. Searching for trackID based on asrtist and track name.\n",
    "2. Searching for audio features based on trackID"
   ]
  },
  {
   "cell_type": "code",
   "execution_count": 18,
   "id": "86f89a50",
   "metadata": {},
   "outputs": [],
   "source": [
    "client_id ='55852b101a53402690e53d515fee3a3b'   # put your client_id here\n",
    "client_secret = '7e4c33910bdf4d39ab571db55b10e7df'  # put your client_secret here"
   ]
  },
  {
   "cell_type": "code",
   "execution_count": 19,
   "id": "8958f98f",
   "metadata": {},
   "outputs": [],
   "source": [
    "class SpotifyAPI(object):\n",
    "    access_token = None\n",
    "    access_token_expires = datetime.datetime.now()\n",
    "    access_token_did_expire = True\n",
    "    client_id = None\n",
    "    client_secret = None\n",
    "    token_url = \"https://accounts.spotify.com/api/token\"\n",
    "    \n",
    "    def __init__(self, client_id, client_secret, *args, **kwargs):\n",
    "        super().__init__(*args, **kwargs)\n",
    "        self.client_id = client_id\n",
    "        self.client_secret = client_secret\n",
    "\n",
    "    def get_client_credentials(self):\n",
    "        \"\"\"\n",
    "        Returns a base64 encoded string\n",
    "        \"\"\"\n",
    "        client_id = self.client_id\n",
    "        client_secret = self.client_secret\n",
    "        if client_secret == None or client_id == None:\n",
    "            raise Exception(\"You must set client_id and client_secret\")\n",
    "        client_creds = f\"{client_id}:{client_secret}\"\n",
    "        client_creds_b64 = base64.b64encode(client_creds.encode())\n",
    "        return client_creds_b64.decode()\n",
    "    \n",
    "    def get_token_headers(self):\n",
    "        client_creds_b64 = self.get_client_credentials()\n",
    "        return {\n",
    "            \"Authorization\": f\"Basic {client_creds_b64}\"\n",
    "        }\n",
    "    \n",
    "    def get_token_data(self):\n",
    "        return {\n",
    "            \"grant_type\": \"client_credentials\"\n",
    "        } \n",
    "    \n",
    "    def perform_auth(self):\n",
    "        token_url = self.token_url\n",
    "        token_data = self.get_token_data()\n",
    "        token_headers = self.get_token_headers()\n",
    "        r = requests.post(token_url, data=token_data, headers=token_headers)\n",
    "        if r.status_code not in range(200, 299):\n",
    "            raise Exception(\"Could not authenticate client.\")\n",
    "            # return False\n",
    "        data = r.json()\n",
    "        now = datetime.datetime.now()\n",
    "        access_token = data['access_token']\n",
    "        expires_in = data['expires_in'] # seconds\n",
    "        expires = now + datetime.timedelta(seconds=expires_in)\n",
    "        self.access_token = access_token\n",
    "        self.access_token_expires = expires\n",
    "        self.access_token_did_expire = expires < now\n",
    "        return True\n",
    "    \n",
    "    def get_access_token(self):\n",
    "        token = self.access_token\n",
    "        expires = self.access_token_expires\n",
    "        now = datetime.datetime.now()\n",
    "        if expires < now:\n",
    "            self.perform_auth()\n",
    "            return self.get_access_token()\n",
    "        elif token == None:\n",
    "            self.perform_auth()\n",
    "            return self.get_access_token() \n",
    "        return token\n",
    "    \n",
    "    def get_resource_header(self):\n",
    "        access_token = self.get_access_token()\n",
    "        headers = {\n",
    "            \"Authorization\": f\"Bearer {access_token}\"\n",
    "        }\n",
    "        return headers\n",
    "        \n",
    "        \n",
    "    def get_resource(self, lookup_id, resource_type='albums', version='v1'):\n",
    "        endpoint = f\"https://api.spotify.com/{version}/{resource_type}/{lookup_id}\"\n",
    "        headers = self.get_resource_header()\n",
    "        r = requests.get(endpoint, headers=headers)\n",
    "        if r.status_code not in range(200, 299):\n",
    "            return {}\n",
    "        return r.json()\n",
    "    \n",
    "    def get_album(self, _id):\n",
    "        return self.get_resource(_id, resource_type='albums')\n",
    "    \n",
    "    def get_artist(self, _id):\n",
    "        return self.get_resource(_id, resource_type='artists')\n",
    "    \n",
    "    def get_audio_features(self, _id):\n",
    "        return self.get_resource(_id, resource_type='audio-features')\n",
    "    \n",
    "    def base_search(self, query_params): # type\n",
    "        headers = self.get_resource_header()\n",
    "        endpoint = \"https://api.spotify.com/v1/search\"\n",
    "        lookup_url = f\"{endpoint}?{query_params}\"\n",
    "        r = requests.get(lookup_url, headers=headers)\n",
    "        if r.status_code not in range(200, 299):  \n",
    "            return {}\n",
    "        return r.json()\n",
    "    \n",
    "    def search(self, query=None, operator=None, operator_query=None, search_type='track' ):\n",
    "        if query == None:\n",
    "            raise Exception(\"A query is required\")\n",
    "        if isinstance(query, dict):\n",
    "            query = \" \".join([f\"{k}:{v}\" for k,v in query.items()])\n",
    "        if operator != None and operator_query != None:\n",
    "            if operator.lower() == \"or\" or operator.lower() == \"not\":\n",
    "                operator = operator.upper()\n",
    "                if isinstance(operator_query, str):\n",
    "                    query = f\"{query} {operator} {operator_query}\"\n",
    "        query_params = urlencode({\"q\": query, \"type\": search_type.lower()})\n",
    "        print(query_params)\n",
    "        return self.base_search(query_params)"
   ]
  },
  {
   "cell_type": "code",
   "execution_count": 20,
   "id": "f3eb63cf",
   "metadata": {},
   "outputs": [],
   "source": [
    "spotify = SpotifyAPI(client_id, client_secret)"
   ]
  },
  {
   "cell_type": "code",
   "execution_count": null,
   "id": "938eef61",
   "metadata": {},
   "outputs": [],
   "source": [
    "df_my.reset_index(inplace=True, drop=True)"
   ]
  },
  {
   "cell_type": "markdown",
   "id": "c0dcc68c",
   "metadata": {},
   "source": [
    "## 1. Searching for trackID based on asrtist and track name.\n",
    "By investigaring the output of search results I managed to find trackID path. Since not all the songs can be found, to avoid errors I will use tryexept and put NaN as missing ID, which than be dropped."
   ]
  },
  {
   "cell_type": "code",
   "execution_count": null,
   "id": "93f94558",
   "metadata": {},
   "outputs": [],
   "source": [
    "for i in range(df_my.shape[0]):\n",
    "    try:\n",
    "        df_my.loc[i, \"trackID\"] = spotify.search({\"artist\": df_my.loc[i,'artistName'], \"track\": df_my.loc[i,'trackName']}, search_type=\"track\")['tracks']['items'][0]['id']\n",
    "\n",
    "    except IndexError:\n",
    "        df_my.loc[i, \"trackID\"] = np.NaN"
   ]
  },
  {
   "cell_type": "code",
   "execution_count": null,
   "id": "825f50f0",
   "metadata": {},
   "outputs": [],
   "source": [
    "df_my.dropna(inplace=True)\n",
    "df_my.reset_index(inplace=True, drop=True)\n",
    "df_my.head(10)"
   ]
  },
  {
   "cell_type": "code",
   "execution_count": null,
   "id": "c040ae4b",
   "metadata": {},
   "outputs": [],
   "source": [
    "for i in range(df_my.shape[0]):\n",
    "    print(i)\n",
    "    audio_features = spotify.get_audio_features(df_my.loc[i,\"trackID\"])\n",
    "    for key, value in audio_features.items():\n",
    "#             print(key, value)\n",
    "        df_my.loc[i, f'{key}'] = value"
   ]
  },
  {
   "cell_type": "code",
   "execution_count": null,
   "id": "403d4f1c",
   "metadata": {},
   "outputs": [],
   "source": [
    "# df_my.to_csv('my_top_with_features.csv')"
   ]
  }
 ],
 "metadata": {
  "kernelspec": {
   "display_name": "Python 3 (ipykernel)",
   "language": "python",
   "name": "python3"
  },
  "language_info": {
   "codemirror_mode": {
    "name": "ipython",
    "version": 3
   },
   "file_extension": ".py",
   "mimetype": "text/x-python",
   "name": "python",
   "nbconvert_exporter": "python",
   "pygments_lexer": "ipython3",
   "version": "3.10.5"
  }
 },
 "nbformat": 4,
 "nbformat_minor": 5
}
